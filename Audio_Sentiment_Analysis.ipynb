{
  "nbformat": 4,
  "nbformat_minor": 0,
  "metadata": {
    "colab": {
      "provenance": [],
      "mount_file_id": "1LI52_v2uDuikTjPP--U6KdZuPSkLmA8e",
      "authorship_tag": "ABX9TyMPRlSI4ja41eTjvry8weeK",
      "include_colab_link": true
    },
    "kernelspec": {
      "name": "python3",
      "display_name": "Python 3"
    },
    "language_info": {
      "name": "python"
    }
  },
  "cells": [
    {
      "cell_type": "markdown",
      "metadata": {
        "id": "view-in-github",
        "colab_type": "text"
      },
      "source": [
        "<a href=\"https://colab.research.google.com/github/KaifAhmad1/Audio-Emotion-Analysis/blob/main/Audio_Sentiment_Analysis.ipynb\" target=\"_parent\"><img src=\"https://colab.research.google.com/assets/colab-badge.svg\" alt=\"Open In Colab\"/></a>"
      ]
    },
    {
      "cell_type": "markdown",
      "source": [
        "### Audio Data Preprocessing and Audio Sentiment and Emotion Analysis:"
      ],
      "metadata": {
        "id": "ADakDP6qt4J6"
      }
    },
    {
      "cell_type": "markdown",
      "source": [
        "**Installing Necessary Dependencies:**"
      ],
      "metadata": {
        "id": "fm2xV3K101ZZ"
      }
    },
    {
      "cell_type": "code",
      "source": [
        "!pip install -qU \\\n",
        "     librosa \\\n",
        "     plotly"
      ],
      "metadata": {
        "id": "sS79U8oW0qQi"
      },
      "execution_count": 24,
      "outputs": []
    },
    {
      "cell_type": "code",
      "source": [
        "import os\n",
        "import numpy as np\n",
        "import pandas as pd\n",
        "import librosa\n",
        "import plotly.graph_objects as go\n",
        "import plotly.io as pio\n",
        "from skimage.io import imread"
      ],
      "metadata": {
        "id": "gzGJXrMK2oCz"
      },
      "execution_count": 25,
      "outputs": []
    },
    {
      "cell_type": "code",
      "source": [
        "# Set seed for reproducibility\n",
        "seed = 12\n",
        "np.random.seed(seed)"
      ],
      "metadata": {
        "id": "YYsj-qnb6Ytc"
      },
      "execution_count": 26,
      "outputs": []
    },
    {
      "cell_type": "code",
      "source": [
        "trainset_data = '/content/drive/MyDrive/audio-sentiment-data/TEST'\n",
        "testset_data = '/content/drive/MyDrive/audio-sentiment-data/TRAIN'\n",
        "file_path = '/content/drive/MyDrive/audio-sentiment-data/speech-emotion-data.csv'\n",
        "speech_data = pd.read_csv(file_path)"
      ],
      "metadata": {
        "id": "xvOXM1Pd_60s"
      },
      "execution_count": 27,
      "outputs": []
    },
    {
      "cell_type": "code",
      "source": [
        "trainset_data"
      ],
      "metadata": {
        "colab": {
          "base_uri": "https://localhost:8080/",
          "height": 36
        },
        "id": "n3OEwjICL2nH",
        "outputId": "4f44ea7c-91e7-406e-e79a-6f5da67a18ff"
      },
      "execution_count": 28,
      "outputs": [
        {
          "output_type": "execute_result",
          "data": {
            "text/plain": [
              "'/content/drive/MyDrive/audio-sentiment-data/TEST'"
            ],
            "application/vnd.google.colaboratory.intrinsic+json": {
              "type": "string"
            }
          },
          "metadata": {},
          "execution_count": 28
        }
      ]
    },
    {
      "cell_type": "code",
      "source": [
        "testset_data"
      ],
      "metadata": {
        "colab": {
          "base_uri": "https://localhost:8080/",
          "height": 36
        },
        "id": "p66sXBjRL6Zy",
        "outputId": "062a0ea7-e913-4fa2-daa3-e403bad38311"
      },
      "execution_count": 29,
      "outputs": [
        {
          "output_type": "execute_result",
          "data": {
            "text/plain": [
              "'/content/drive/MyDrive/audio-sentiment-data/TRAIN'"
            ],
            "application/vnd.google.colaboratory.intrinsic+json": {
              "type": "string"
            }
          },
          "metadata": {},
          "execution_count": 29
        }
      ]
    },
    {
      "cell_type": "markdown",
      "source": [
        "**Data Exploration:**"
      ],
      "metadata": {
        "id": "6qUt5n1oFLPr"
      }
    },
    {
      "cell_type": "code",
      "source": [
        "print(speech_data)"
      ],
      "metadata": {
        "colab": {
          "base_uri": "https://localhost:8080/"
        },
        "id": "SKk6NeXZBJkF",
        "outputId": "3ec2448e-075b-4620-f861-604f4159a41e"
      },
      "execution_count": 30,
      "outputs": [
        {
          "output_type": "stream",
          "name": "stdout",
          "text": [
            "    Filename     Class\n",
            "0    346.wav  Negative\n",
            "1    163.wav   Neutral\n",
            "2    288.wav  Negative\n",
            "3    279.wav  Negative\n",
            "4    244.wav  Negative\n",
            "..       ...       ...\n",
            "245  204.wav   Neutral\n",
            "246   46.wav  Positive\n",
            "247  318.wav  Negative\n",
            "248   49.wav  Positive\n",
            "249  191.wav   Neutral\n",
            "\n",
            "[250 rows x 2 columns]\n"
          ]
        }
      ]
    },
    {
      "cell_type": "code",
      "source": [
        "speech_data.info()"
      ],
      "metadata": {
        "colab": {
          "base_uri": "https://localhost:8080/"
        },
        "id": "O1ODWGuqBTno",
        "outputId": "73679b2b-4819-4b34-f6d0-ca197176b801"
      },
      "execution_count": 31,
      "outputs": [
        {
          "output_type": "stream",
          "name": "stdout",
          "text": [
            "<class 'pandas.core.frame.DataFrame'>\n",
            "RangeIndex: 250 entries, 0 to 249\n",
            "Data columns (total 2 columns):\n",
            " #   Column    Non-Null Count  Dtype \n",
            "---  ------    --------------  ----- \n",
            " 0   Filename  250 non-null    object\n",
            " 1   Class     250 non-null    object\n",
            "dtypes: object(2)\n",
            "memory usage: 4.0+ KB\n"
          ]
        }
      ]
    },
    {
      "cell_type": "code",
      "source": [
        "speech_data.describe()"
      ],
      "metadata": {
        "colab": {
          "base_uri": "https://localhost:8080/",
          "height": 175
        },
        "id": "vwcHnjBRBjIz",
        "outputId": "05f872df-1b52-489a-eecb-c6860a2aa181"
      },
      "execution_count": 32,
      "outputs": [
        {
          "output_type": "execute_result",
          "data": {
            "text/plain": [
              "       Filename     Class\n",
              "count       250       250\n",
              "unique      250         3\n",
              "top     346.wav  Negative\n",
              "freq          1        87"
            ],
            "text/html": [
              "\n",
              "  <div id=\"df-27d59501-8d75-44c9-b286-567d1630dbcf\" class=\"colab-df-container\">\n",
              "    <div>\n",
              "<style scoped>\n",
              "    .dataframe tbody tr th:only-of-type {\n",
              "        vertical-align: middle;\n",
              "    }\n",
              "\n",
              "    .dataframe tbody tr th {\n",
              "        vertical-align: top;\n",
              "    }\n",
              "\n",
              "    .dataframe thead th {\n",
              "        text-align: right;\n",
              "    }\n",
              "</style>\n",
              "<table border=\"1\" class=\"dataframe\">\n",
              "  <thead>\n",
              "    <tr style=\"text-align: right;\">\n",
              "      <th></th>\n",
              "      <th>Filename</th>\n",
              "      <th>Class</th>\n",
              "    </tr>\n",
              "  </thead>\n",
              "  <tbody>\n",
              "    <tr>\n",
              "      <th>count</th>\n",
              "      <td>250</td>\n",
              "      <td>250</td>\n",
              "    </tr>\n",
              "    <tr>\n",
              "      <th>unique</th>\n",
              "      <td>250</td>\n",
              "      <td>3</td>\n",
              "    </tr>\n",
              "    <tr>\n",
              "      <th>top</th>\n",
              "      <td>346.wav</td>\n",
              "      <td>Negative</td>\n",
              "    </tr>\n",
              "    <tr>\n",
              "      <th>freq</th>\n",
              "      <td>1</td>\n",
              "      <td>87</td>\n",
              "    </tr>\n",
              "  </tbody>\n",
              "</table>\n",
              "</div>\n",
              "    <div class=\"colab-df-buttons\">\n",
              "\n",
              "  <div class=\"colab-df-container\">\n",
              "    <button class=\"colab-df-convert\" onclick=\"convertToInteractive('df-27d59501-8d75-44c9-b286-567d1630dbcf')\"\n",
              "            title=\"Convert this dataframe to an interactive table.\"\n",
              "            style=\"display:none;\">\n",
              "\n",
              "  <svg xmlns=\"http://www.w3.org/2000/svg\" height=\"24px\" viewBox=\"0 -960 960 960\">\n",
              "    <path d=\"M120-120v-720h720v720H120Zm60-500h600v-160H180v160Zm220 220h160v-160H400v160Zm0 220h160v-160H400v160ZM180-400h160v-160H180v160Zm440 0h160v-160H620v160ZM180-180h160v-160H180v160Zm440 0h160v-160H620v160Z\"/>\n",
              "  </svg>\n",
              "    </button>\n",
              "\n",
              "  <style>\n",
              "    .colab-df-container {\n",
              "      display:flex;\n",
              "      gap: 12px;\n",
              "    }\n",
              "\n",
              "    .colab-df-convert {\n",
              "      background-color: #E8F0FE;\n",
              "      border: none;\n",
              "      border-radius: 50%;\n",
              "      cursor: pointer;\n",
              "      display: none;\n",
              "      fill: #1967D2;\n",
              "      height: 32px;\n",
              "      padding: 0 0 0 0;\n",
              "      width: 32px;\n",
              "    }\n",
              "\n",
              "    .colab-df-convert:hover {\n",
              "      background-color: #E2EBFA;\n",
              "      box-shadow: 0px 1px 2px rgba(60, 64, 67, 0.3), 0px 1px 3px 1px rgba(60, 64, 67, 0.15);\n",
              "      fill: #174EA6;\n",
              "    }\n",
              "\n",
              "    .colab-df-buttons div {\n",
              "      margin-bottom: 4px;\n",
              "    }\n",
              "\n",
              "    [theme=dark] .colab-df-convert {\n",
              "      background-color: #3B4455;\n",
              "      fill: #D2E3FC;\n",
              "    }\n",
              "\n",
              "    [theme=dark] .colab-df-convert:hover {\n",
              "      background-color: #434B5C;\n",
              "      box-shadow: 0px 1px 3px 1px rgba(0, 0, 0, 0.15);\n",
              "      filter: drop-shadow(0px 1px 2px rgba(0, 0, 0, 0.3));\n",
              "      fill: #FFFFFF;\n",
              "    }\n",
              "  </style>\n",
              "\n",
              "    <script>\n",
              "      const buttonEl =\n",
              "        document.querySelector('#df-27d59501-8d75-44c9-b286-567d1630dbcf button.colab-df-convert');\n",
              "      buttonEl.style.display =\n",
              "        google.colab.kernel.accessAllowed ? 'block' : 'none';\n",
              "\n",
              "      async function convertToInteractive(key) {\n",
              "        const element = document.querySelector('#df-27d59501-8d75-44c9-b286-567d1630dbcf');\n",
              "        const dataTable =\n",
              "          await google.colab.kernel.invokeFunction('convertToInteractive',\n",
              "                                                    [key], {});\n",
              "        if (!dataTable) return;\n",
              "\n",
              "        const docLinkHtml = 'Like what you see? Visit the ' +\n",
              "          '<a target=\"_blank\" href=https://colab.research.google.com/notebooks/data_table.ipynb>data table notebook</a>'\n",
              "          + ' to learn more about interactive tables.';\n",
              "        element.innerHTML = '';\n",
              "        dataTable['output_type'] = 'display_data';\n",
              "        await google.colab.output.renderOutput(dataTable, element);\n",
              "        const docLink = document.createElement('div');\n",
              "        docLink.innerHTML = docLinkHtml;\n",
              "        element.appendChild(docLink);\n",
              "      }\n",
              "    </script>\n",
              "  </div>\n",
              "\n",
              "\n",
              "<div id=\"df-89fd25b8-3ac3-4391-8031-9804c9c57510\">\n",
              "  <button class=\"colab-df-quickchart\" onclick=\"quickchart('df-89fd25b8-3ac3-4391-8031-9804c9c57510')\"\n",
              "            title=\"Suggest charts\"\n",
              "            style=\"display:none;\">\n",
              "\n",
              "<svg xmlns=\"http://www.w3.org/2000/svg\" height=\"24px\"viewBox=\"0 0 24 24\"\n",
              "     width=\"24px\">\n",
              "    <g>\n",
              "        <path d=\"M19 3H5c-1.1 0-2 .9-2 2v14c0 1.1.9 2 2 2h14c1.1 0 2-.9 2-2V5c0-1.1-.9-2-2-2zM9 17H7v-7h2v7zm4 0h-2V7h2v10zm4 0h-2v-4h2v4z\"/>\n",
              "    </g>\n",
              "</svg>\n",
              "  </button>\n",
              "\n",
              "<style>\n",
              "  .colab-df-quickchart {\n",
              "      --bg-color: #E8F0FE;\n",
              "      --fill-color: #1967D2;\n",
              "      --hover-bg-color: #E2EBFA;\n",
              "      --hover-fill-color: #174EA6;\n",
              "      --disabled-fill-color: #AAA;\n",
              "      --disabled-bg-color: #DDD;\n",
              "  }\n",
              "\n",
              "  [theme=dark] .colab-df-quickchart {\n",
              "      --bg-color: #3B4455;\n",
              "      --fill-color: #D2E3FC;\n",
              "      --hover-bg-color: #434B5C;\n",
              "      --hover-fill-color: #FFFFFF;\n",
              "      --disabled-bg-color: #3B4455;\n",
              "      --disabled-fill-color: #666;\n",
              "  }\n",
              "\n",
              "  .colab-df-quickchart {\n",
              "    background-color: var(--bg-color);\n",
              "    border: none;\n",
              "    border-radius: 50%;\n",
              "    cursor: pointer;\n",
              "    display: none;\n",
              "    fill: var(--fill-color);\n",
              "    height: 32px;\n",
              "    padding: 0;\n",
              "    width: 32px;\n",
              "  }\n",
              "\n",
              "  .colab-df-quickchart:hover {\n",
              "    background-color: var(--hover-bg-color);\n",
              "    box-shadow: 0 1px 2px rgba(60, 64, 67, 0.3), 0 1px 3px 1px rgba(60, 64, 67, 0.15);\n",
              "    fill: var(--button-hover-fill-color);\n",
              "  }\n",
              "\n",
              "  .colab-df-quickchart-complete:disabled,\n",
              "  .colab-df-quickchart-complete:disabled:hover {\n",
              "    background-color: var(--disabled-bg-color);\n",
              "    fill: var(--disabled-fill-color);\n",
              "    box-shadow: none;\n",
              "  }\n",
              "\n",
              "  .colab-df-spinner {\n",
              "    border: 2px solid var(--fill-color);\n",
              "    border-color: transparent;\n",
              "    border-bottom-color: var(--fill-color);\n",
              "    animation:\n",
              "      spin 1s steps(1) infinite;\n",
              "  }\n",
              "\n",
              "  @keyframes spin {\n",
              "    0% {\n",
              "      border-color: transparent;\n",
              "      border-bottom-color: var(--fill-color);\n",
              "      border-left-color: var(--fill-color);\n",
              "    }\n",
              "    20% {\n",
              "      border-color: transparent;\n",
              "      border-left-color: var(--fill-color);\n",
              "      border-top-color: var(--fill-color);\n",
              "    }\n",
              "    30% {\n",
              "      border-color: transparent;\n",
              "      border-left-color: var(--fill-color);\n",
              "      border-top-color: var(--fill-color);\n",
              "      border-right-color: var(--fill-color);\n",
              "    }\n",
              "    40% {\n",
              "      border-color: transparent;\n",
              "      border-right-color: var(--fill-color);\n",
              "      border-top-color: var(--fill-color);\n",
              "    }\n",
              "    60% {\n",
              "      border-color: transparent;\n",
              "      border-right-color: var(--fill-color);\n",
              "    }\n",
              "    80% {\n",
              "      border-color: transparent;\n",
              "      border-right-color: var(--fill-color);\n",
              "      border-bottom-color: var(--fill-color);\n",
              "    }\n",
              "    90% {\n",
              "      border-color: transparent;\n",
              "      border-bottom-color: var(--fill-color);\n",
              "    }\n",
              "  }\n",
              "</style>\n",
              "\n",
              "  <script>\n",
              "    async function quickchart(key) {\n",
              "      const quickchartButtonEl =\n",
              "        document.querySelector('#' + key + ' button');\n",
              "      quickchartButtonEl.disabled = true;  // To prevent multiple clicks.\n",
              "      quickchartButtonEl.classList.add('colab-df-spinner');\n",
              "      try {\n",
              "        const charts = await google.colab.kernel.invokeFunction(\n",
              "            'suggestCharts', [key], {});\n",
              "      } catch (error) {\n",
              "        console.error('Error during call to suggestCharts:', error);\n",
              "      }\n",
              "      quickchartButtonEl.classList.remove('colab-df-spinner');\n",
              "      quickchartButtonEl.classList.add('colab-df-quickchart-complete');\n",
              "    }\n",
              "    (() => {\n",
              "      let quickchartButtonEl =\n",
              "        document.querySelector('#df-89fd25b8-3ac3-4391-8031-9804c9c57510 button');\n",
              "      quickchartButtonEl.style.display =\n",
              "        google.colab.kernel.accessAllowed ? 'block' : 'none';\n",
              "    })();\n",
              "  </script>\n",
              "</div>\n",
              "\n",
              "    </div>\n",
              "  </div>\n"
            ]
          },
          "metadata": {},
          "execution_count": 32
        }
      ]
    },
    {
      "cell_type": "code",
      "source": [
        "num_samples = speech_data.shape[0]\n",
        "print(f\"Dataset has {num_samples} samples\")\n",
        "\n",
        "print(\"Count of Positive and Negative samples:\")\n",
        "class_counts = speech_data['Class'].value_counts().reset_index()\n",
        "print(class_counts)"
      ],
      "metadata": {
        "colab": {
          "base_uri": "https://localhost:8080/"
        },
        "id": "YZ-5nZCzBuHE",
        "outputId": "86ab4575-f142-4cd1-88f0-2c00cd1cbb98"
      },
      "execution_count": 33,
      "outputs": [
        {
          "output_type": "stream",
          "name": "stdout",
          "text": [
            "Dataset has 250 samples\n",
            "Count of Positive and Negative samples:\n",
            "      index  Class\n",
            "0  Negative     87\n",
            "1  Positive     82\n",
            "2   Neutral     81\n"
          ]
        }
      ]
    },
    {
      "cell_type": "markdown",
      "source": [
        "**Audio Preprocessing:**"
      ],
      "metadata": {
        "id": "G8BbFv20FU1D"
      }
    },
    {
      "cell_type": "code",
      "source": [
        "import librosa\n",
        "# Set the sample rate for audio processing\n",
        "sample_rate = 44100\n",
        "def load_audio(file_path):\n",
        "    # Load audio using librosa with specified parameters\n",
        "    return librosa.load(file_path, sr=sample_rate, duration=2.5, offset=0.5)"
      ],
      "metadata": {
        "id": "xywMA21eCFYc"
      },
      "execution_count": 34,
      "outputs": []
    },
    {
      "cell_type": "code",
      "source": [
        "import sys\n",
        "def extract_mel_spectrogram_features(path, avg_feat=0):\n",
        "    features = []\n",
        "    min_feat = sys.maxsize\n",
        "    max_feat = 0\n",
        "    files = sorted(os.listdir(path))\n",
        "\n",
        "    print(\"Scanning\", path)\n",
        "\n",
        "    for i, fp in enumerate(files):\n",
        "        X, sr = load_audio(os.path.join(path, fp))\n",
        "\n",
        "        mel_spec = librosa.feature.melspectrogram(y=X, sr=sample_rate)\n",
        "        mel_spec_db = librosa.amplitude_to_db(mel_spec, ref=np.max)\n",
        "\n",
        "        shapeY = mel_spec_db.shape[1]\n",
        "        if shapeY < min_feat:\n",
        "            min_feat = shapeY\n",
        "\n",
        "        if shapeY > max_feat:\n",
        "            max_feat = shapeY\n",
        "\n",
        "        features.append(mel_spec_db)\n",
        "\n",
        "    if avg_feat == 0:\n",
        "        avg_feat = int((min_feat + max_feat) / 2)\n",
        "\n",
        "    feat_mat = np.zeros((len(files), mel_spec_db.shape[0], avg_feat))\n",
        "\n",
        "    for i, x in enumerate(features):\n",
        "        x_width = min(x.shape[1], avg_feat)\n",
        "        feat_mat[i, :, :x_width] = x[:, :x_width]\n",
        "\n",
        "    return feat_mat, files"
      ],
      "metadata": {
        "id": "RtiMYzCEEnCr"
      },
      "execution_count": 35,
      "outputs": []
    },
    {
      "cell_type": "code",
      "source": [
        "# Extract Mel spectrogram features from audio files\n",
        "f_dim = 128\n",
        "train_data, train_files = extract_mel_spectrogram_features(trainset_data, f_dim)\n",
        "test_data, test_files = extract_mel_spectrogram_features(testset_data, train_data.shape[1])"
      ],
      "metadata": {
        "id": "4lgOQhzt2CYt",
        "colab": {
          "base_uri": "https://localhost:8080/"
        },
        "outputId": "f7f9ede6-f4cb-4c24-ffe6-9c3ab5d60c19"
      },
      "execution_count": 36,
      "outputs": [
        {
          "output_type": "stream",
          "name": "stdout",
          "text": [
            "Scanning /content/drive/MyDrive/audio-sentiment-data/TEST\n",
            "Scanning /content/drive/MyDrive/audio-sentiment-data/TRAIN\n"
          ]
        }
      ]
    },
    {
      "cell_type": "code",
      "source": [
        "# Displaying the shape of extracted features\n",
        "print(train_data.shape)\n",
        "print(test_data.shape)"
      ],
      "metadata": {
        "colab": {
          "base_uri": "https://localhost:8080/"
        },
        "id": "U-OlB8D67nER",
        "outputId": "fb55b886-341d-4920-b6b6-fb12555504c2"
      },
      "execution_count": 37,
      "outputs": [
        {
          "output_type": "stream",
          "name": "stdout",
          "text": [
            "(110, 128, 128)\n",
            "(250, 128, 128)\n"
          ]
        }
      ]
    },
    {
      "cell_type": "code",
      "source": [
        "import matplotlib.pyplot as plt"
      ],
      "metadata": {
        "id": "yXyn-gRJ7uRl"
      },
      "execution_count": 38,
      "outputs": []
    },
    {
      "cell_type": "code",
      "source": [
        "# MelSpec -> Images\n",
        "def save_image(f, fp):\n",
        "    f = np.flip(f, axis=0)\n",
        "    plt.figure()\n",
        "    plt.axis('off')\n",
        "    plt.imsave(fp, f, format='png')\n",
        "    plt.clf()"
      ],
      "metadata": {
        "id": "D4dEa4aT7nHC"
      },
      "execution_count": 16,
      "outputs": []
    },
    {
      "cell_type": "code",
      "source": [
        "# Function to save Mel spectrogram features as images\n",
        "def save_feature_to_image(path, save_dir, avg_feat=0):\n",
        "    global sample_rate\n",
        "    files = sorted(os.listdir(path))\n",
        "\n",
        "    print(\"Scanning\", path)\n",
        "\n",
        "    for i, fp in enumerate(files):\n",
        "        X, sr = load_audio(os.path.join(path, fp))\n",
        "\n",
        "        mel_spec = librosa.feature.melspectrogram(y=X, sr=sample_rate)\n",
        "        mel_spec_db = librosa.amplitude_to_db(mel_spec, ref=np.max)\n",
        "\n",
        "        img = np.zeros((mel_spec_db.shape[0], avg_feat))\n",
        "        x_width = min(mel_spec_db.shape[1], avg_feat)\n",
        "        img[:, :x_width] = mel_spec_db[:, :x_width]\n",
        "\n",
        "        fname = os.path.join(save_dir, fp.split('.')[0] + '.png')\n",
        "        save_image(img, fname)"
      ],
      "metadata": {
        "id": "GX8cKXeJ7nKb"
      },
      "execution_count": 39,
      "outputs": []
    },
    {
      "cell_type": "code",
      "source": [
        "# Image Configuration\n",
        "f_dim = 128\n",
        "train_img_dir = './train_images'\n",
        "test_img_dir = './test_images'\n",
        "\n",
        "# Create image directories if they don't exist\n",
        "if not os.path.exists(train_img_dir):\n",
        "    os.mkdir(train_img_dir)\n",
        "    save_feature_to_image(trainset_data, train_img_dir, f_dim)\n",
        "\n",
        "if not os.path.exists(test_img_dir):\n",
        "    os.mkdir(test_img_dir)\n",
        "    save_feature_to_image(testset_data, test_img_dir, train_data.shape[1])"
      ],
      "metadata": {
        "id": "SvpEn1eO7nNk"
      },
      "execution_count": 40,
      "outputs": []
    },
    {
      "cell_type": "code",
      "source": [
        "# Function to scan image features\n",
        "def scan_img_features(path):\n",
        "    features = []\n",
        "    files = sorted(os.listdir(path))\n",
        "\n",
        "    for x in files:\n",
        "        fp = os.path.join(path, x)\n",
        "        img = imread(fp)[:, :, :3] / 255.0\n",
        "        features.append(img)\n",
        "\n",
        "    return np.array(features), files"
      ],
      "metadata": {
        "id": "gINJX2JD74L3"
      },
      "execution_count": 41,
      "outputs": []
    },
    {
      "cell_type": "code",
      "source": [
        "# Load image features\n",
        "if os.path.exists(train_img_dir):\n",
        "    train_data_img, train_files_img = scan_img_features(train_img_dir)\n",
        "\n",
        "if os.path.exists(test_img_dir):\n",
        "    test_data_img, test_files_img = scan_img_features(test_img_dir)\n",
        "\n",
        "# Displaying an example image\n",
        "plt.imshow(test_data_img[0])\n",
        "plt.show()"
      ],
      "metadata": {
        "colab": {
          "base_uri": "https://localhost:8080/",
          "height": 434
        },
        "id": "YMT-Y4H074Oz",
        "outputId": "6cfc335e-b7b9-41e3-8c9f-215f8a73c96f"
      },
      "execution_count": 42,
      "outputs": [
        {
          "output_type": "display_data",
          "data": {
            "text/plain": [
              "<Figure size 640x480 with 1 Axes>"
            ],
            "image/png": "[encoded data removed]"
          },
          "metadata": {}
        }
      ]
    },
    {
      "cell_type": "code",
      "source": [
        "# Function to get path labels\n",
        "def get_path_labels(p):\n",
        "    return [speech_data[speech_data['Filename'] == x].iloc[0, 1] for x in p]\n",
        "\n",
        "# Get labels for training data\n",
        "train_labels = get_path_labels(train_files)"
      ],
      "metadata": {
        "colab": {
          "base_uri": "https://localhost:8080/",
          "height": 355
        },
        "id": "6_SB05zG74Rk",
        "outputId": "b47863d4-5601-448e-c316-58a83555cf41"
      },
      "execution_count": 43,
      "outputs": [
        {
          "output_type": "error",
          "ename": "IndexError",
          "evalue": "index 0 is out of bounds for axis 0 with size 0",
          "traceback": [
            "\u001b[0;31m---------------------------------------------------------------------------\u001b[0m",
            "\u001b[0;31mIndexError\u001b[0m                                Traceback (most recent call last)",
            "\u001b[0;32m<ipython-input-43-6d7a35a33bdc>\u001b[0m in \u001b[0;36m<cell line: 6>\u001b[0;34m()\u001b[0m\n\u001b[1;32m      4\u001b[0m \u001b[0;34m\u001b[0m\u001b[0m\n\u001b[1;32m      5\u001b[0m \u001b[0;31m# Get labels for training data\u001b[0m\u001b[0;34m\u001b[0m\u001b[0;34m\u001b[0m\u001b[0m\n\u001b[0;32m----> 6\u001b[0;31m \u001b[0mtrain_labels\u001b[0m \u001b[0;34m=\u001b[0m \u001b[0mget_path_labels\u001b[0m\u001b[0;34m(\u001b[0m\u001b[0mtrain_files\u001b[0m\u001b[0;34m)\u001b[0m\u001b[0;34m\u001b[0m\u001b[0;34m\u001b[0m\u001b[0m\n\u001b[0m",
            "\u001b[0;32m<ipython-input-43-6d7a35a33bdc>\u001b[0m in \u001b[0;36mget_path_labels\u001b[0;34m(p)\u001b[0m\n\u001b[1;32m      1\u001b[0m \u001b[0;31m# Function to get path labels\u001b[0m\u001b[0;34m\u001b[0m\u001b[0;34m\u001b[0m\u001b[0m\n\u001b[1;32m      2\u001b[0m \u001b[0;32mdef\u001b[0m \u001b[0mget_path_labels\u001b[0m\u001b[0;34m(\u001b[0m\u001b[0mp\u001b[0m\u001b[0;34m)\u001b[0m\u001b[0;34m:\u001b[0m\u001b[0;34m\u001b[0m\u001b[0;34m\u001b[0m\u001b[0m\n\u001b[0;32m----> 3\u001b[0;31m     \u001b[0;32mreturn\u001b[0m \u001b[0;34m[\u001b[0m\u001b[0mspeech_data\u001b[0m\u001b[0;34m[\u001b[0m\u001b[0mspeech_data\u001b[0m\u001b[0;34m[\u001b[0m\u001b[0;34m'Filename'\u001b[0m\u001b[0;34m]\u001b[0m \u001b[0;34m==\u001b[0m \u001b[0mx\u001b[0m\u001b[0;34m]\u001b[0m\u001b[0;34m.\u001b[0m\u001b[0miloc\u001b[0m\u001b[0;34m[\u001b[0m\u001b[0;36m0\u001b[0m\u001b[0;34m,\u001b[0m \u001b[0;36m1\u001b[0m\u001b[0;34m]\u001b[0m \u001b[0;32mfor\u001b[0m \u001b[0mx\u001b[0m \u001b[0;32min\u001b[0m \u001b[0mp\u001b[0m\u001b[0;34m]\u001b[0m\u001b[0;34m\u001b[0m\u001b[0;34m\u001b[0m\u001b[0m\n\u001b[0m\u001b[1;32m      4\u001b[0m \u001b[0;34m\u001b[0m\u001b[0m\n\u001b[1;32m      5\u001b[0m \u001b[0;31m# Get labels for training data\u001b[0m\u001b[0;34m\u001b[0m\u001b[0;34m\u001b[0m\u001b[0m\n",
            "\u001b[0;32m<ipython-input-43-6d7a35a33bdc>\u001b[0m in \u001b[0;36m<listcomp>\u001b[0;34m(.0)\u001b[0m\n\u001b[1;32m      1\u001b[0m \u001b[0;31m# Function to get path labels\u001b[0m\u001b[0;34m\u001b[0m\u001b[0;34m\u001b[0m\u001b[0m\n\u001b[1;32m      2\u001b[0m \u001b[0;32mdef\u001b[0m \u001b[0mget_path_labels\u001b[0m\u001b[0;34m(\u001b[0m\u001b[0mp\u001b[0m\u001b[0;34m)\u001b[0m\u001b[0;34m:\u001b[0m\u001b[0;34m\u001b[0m\u001b[0;34m\u001b[0m\u001b[0m\n\u001b[0;32m----> 3\u001b[0;31m     \u001b[0;32mreturn\u001b[0m \u001b[0;34m[\u001b[0m\u001b[0mspeech_data\u001b[0m\u001b[0;34m[\u001b[0m\u001b[0mspeech_data\u001b[0m\u001b[0;34m[\u001b[0m\u001b[0;34m'Filename'\u001b[0m\u001b[0;34m]\u001b[0m \u001b[0;34m==\u001b[0m \u001b[0mx\u001b[0m\u001b[0;34m]\u001b[0m\u001b[0;34m.\u001b[0m\u001b[0miloc\u001b[0m\u001b[0;34m[\u001b[0m\u001b[0;36m0\u001b[0m\u001b[0;34m,\u001b[0m \u001b[0;36m1\u001b[0m\u001b[0;34m]\u001b[0m \u001b[0;32mfor\u001b[0m \u001b[0mx\u001b[0m \u001b[0;32min\u001b[0m \u001b[0mp\u001b[0m\u001b[0;34m]\u001b[0m\u001b[0;34m\u001b[0m\u001b[0;34m\u001b[0m\u001b[0m\n\u001b[0m\u001b[1;32m      4\u001b[0m \u001b[0;34m\u001b[0m\u001b[0m\n\u001b[1;32m      5\u001b[0m \u001b[0;31m# Get labels for training data\u001b[0m\u001b[0;34m\u001b[0m\u001b[0;34m\u001b[0m\u001b[0m\n",
            "\u001b[0;32m/usr/local/lib/python3.10/dist-packages/pandas/core/indexing.py\u001b[0m in \u001b[0;36m__getitem__\u001b[0;34m(self, key)\u001b[0m\n\u001b[1;32m   1064\u001b[0m             \u001b[0mkey\u001b[0m \u001b[0;34m=\u001b[0m \u001b[0mtuple\u001b[0m\u001b[0;34m(\u001b[0m\u001b[0mcom\u001b[0m\u001b[0;34m.\u001b[0m\u001b[0mapply_if_callable\u001b[0m\u001b[0;34m(\u001b[0m\u001b[0mx\u001b[0m\u001b[0;34m,\u001b[0m \u001b[0mself\u001b[0m\u001b[0;34m.\u001b[0m\u001b[0mobj\u001b[0m\u001b[0;34m)\u001b[0m \u001b[0;32mfor\u001b[0m \u001b[0mx\u001b[0m \u001b[0;32min\u001b[0m \u001b[0mkey\u001b[0m\u001b[0;34m)\u001b[0m\u001b[0;34m\u001b[0m\u001b[0;34m\u001b[0m\u001b[0m\n\u001b[1;32m   1065\u001b[0m             \u001b[0;32mif\u001b[0m \u001b[0mself\u001b[0m\u001b[0;34m.\u001b[0m\u001b[0m_is_scalar_access\u001b[0m\u001b[0;34m(\u001b[0m\u001b[0mkey\u001b[0m\u001b[0;34m)\u001b[0m\u001b[0;34m:\u001b[0m\u001b[0;34m\u001b[0m\u001b[0;34m\u001b[0m\u001b[0m\n\u001b[0;32m-> 1066\u001b[0;31m                 \u001b[0;32mreturn\u001b[0m \u001b[0mself\u001b[0m\u001b[0;34m.\u001b[0m\u001b[0mobj\u001b[0m\u001b[0;34m.\u001b[0m\u001b[0m_get_value\u001b[0m\u001b[0;34m(\u001b[0m\u001b[0;34m*\u001b[0m\u001b[0mkey\u001b[0m\u001b[0;34m,\u001b[0m \u001b[0mtakeable\u001b[0m\u001b[0;34m=\u001b[0m\u001b[0mself\u001b[0m\u001b[0;34m.\u001b[0m\u001b[0m_takeable\u001b[0m\u001b[0;34m)\u001b[0m\u001b[0;34m\u001b[0m\u001b[0;34m\u001b[0m\u001b[0m\n\u001b[0m\u001b[1;32m   1067\u001b[0m             \u001b[0;32mreturn\u001b[0m \u001b[0mself\u001b[0m\u001b[0;34m.\u001b[0m\u001b[0m_getitem_tuple\u001b[0m\u001b[0;34m(\u001b[0m\u001b[0mkey\u001b[0m\u001b[0;34m)\u001b[0m\u001b[0;34m\u001b[0m\u001b[0;34m\u001b[0m\u001b[0m\n\u001b[1;32m   1068\u001b[0m         \u001b[0;32melse\u001b[0m\u001b[0;34m:\u001b[0m\u001b[0;34m\u001b[0m\u001b[0;34m\u001b[0m\u001b[0m\n",
            "\u001b[0;32m/usr/local/lib/python3.10/dist-packages/pandas/core/frame.py\u001b[0m in \u001b[0;36m_get_value\u001b[0;34m(self, index, col, takeable)\u001b[0m\n\u001b[1;32m   3913\u001b[0m         \u001b[0;32mif\u001b[0m \u001b[0mtakeable\u001b[0m\u001b[0;34m:\u001b[0m\u001b[0;34m\u001b[0m\u001b[0;34m\u001b[0m\u001b[0m\n\u001b[1;32m   3914\u001b[0m             \u001b[0mseries\u001b[0m \u001b[0;34m=\u001b[0m \u001b[0mself\u001b[0m\u001b[0;34m.\u001b[0m\u001b[0m_ixs\u001b[0m\u001b[0;34m(\u001b[0m\u001b[0mcol\u001b[0m\u001b[0;34m,\u001b[0m \u001b[0maxis\u001b[0m\u001b[0;34m=\u001b[0m\u001b[0;36m1\u001b[0m\u001b[0;34m)\u001b[0m\u001b[0;34m\u001b[0m\u001b[0;34m\u001b[0m\u001b[0m\n\u001b[0;32m-> 3915\u001b[0;31m             \u001b[0;32mreturn\u001b[0m \u001b[0mseries\u001b[0m\u001b[0;34m.\u001b[0m\u001b[0m_values\u001b[0m\u001b[0;34m[\u001b[0m\u001b[0mindex\u001b[0m\u001b[0;34m]\u001b[0m\u001b[0;34m\u001b[0m\u001b[0;34m\u001b[0m\u001b[0m\n\u001b[0m\u001b[1;32m   3916\u001b[0m \u001b[0;34m\u001b[0m\u001b[0m\n\u001b[1;32m   3917\u001b[0m         \u001b[0mseries\u001b[0m \u001b[0;34m=\u001b[0m \u001b[0mself\u001b[0m\u001b[0;34m.\u001b[0m\u001b[0m_get_item_cache\u001b[0m\u001b[0;34m(\u001b[0m\u001b[0mcol\u001b[0m\u001b[0;34m)\u001b[0m\u001b[0;34m\u001b[0m\u001b[0;34m\u001b[0m\u001b[0m\n",
            "\u001b[0;31mIndexError\u001b[0m: index 0 is out of bounds for axis 0 with size 0"
          ]
        }
      ]
    },
    {
      "cell_type": "code",
      "source": [],
      "metadata": {
        "id": "urvxD7fs74Uw"
      },
      "execution_count": null,
      "outputs": []
    },
    {
      "cell_type": "code",
      "source": [],
      "metadata": {
        "id": "5uaY_KkV74YJ"
      },
      "execution_count": null,
      "outputs": []
    },
    {
      "cell_type": "code",
      "source": [],
      "metadata": {
        "id": "jfzU0IjZ7nQ-"
      },
      "execution_count": null,
      "outputs": []
    },
    {
      "cell_type": "code",
      "source": [
        "# Print shapes\n",
        "print(\"Train Shape:\", train_data.shape, \"| Test Shape:\", test_data.shape)"
      ],
      "metadata": {
        "colab": {
          "base_uri": "https://localhost:8080/"
        },
        "id": "oBLikzQ12CbR",
        "outputId": "25d42d98-9504-4f54-b214-cc320679c641"
      },
      "execution_count": null,
      "outputs": [
        {
          "output_type": "stream",
          "name": "stdout",
          "text": [
            "Train Shape: (110, 128, 128) | Test Shape: (250, 128, 128)\n"
          ]
        }
      ]
    },
    {
      "cell_type": "code",
      "source": [
        "# MelSpec to Images using Plotly\n",
        "def save_img(f, fp):\n",
        "    fig = go.Figure(data=go.Heatmap(z=f[::-1], colorscale='Viridis'))\n",
        "    fig.update_layout(xaxis=dict(showgrid=False, zeroline=False, showticklabels=False),\n",
        "                      yaxis=dict(showgrid=False, zeroline=False, showticklabels=False))\n",
        "    pio.write_html(fig, fp)"
      ],
      "metadata": {
        "id": "T6YYf2Mv2Cdl"
      },
      "execution_count": null,
      "outputs": []
    },
    {
      "cell_type": "code",
      "source": [
        "def save_feature_to_image(path, save_dir, avg_feat=0):\n",
        "    global sample_rate\n",
        "    files = sorted(os.listdir(path))\n",
        "    print(\"Scanning\", path)\n",
        "\n",
        "    for i, fp in enumerate(files):\n",
        "        X, sr = load_audio(os.path.join(path, fp))\n",
        "        f = librosa.feature.melspectrogram(y=X, sr=sample_rate)\n",
        "        f = librosa.amplitude_to_db(f, ref=np.max)\n",
        "        img = np.zeros((f.shape[0], avg_feat))\n",
        "        x_width = min(f.shape[1], avg_feat)\n",
        "        img[:, :x_width] = f[:, :x_width]\n",
        "        fname = os.path.join(save_dir, fp.split('.')[0] + '.html')\n",
        "        save_img(img, fname)"
      ],
      "metadata": {
        "id": "1NupFIQr2Cf7"
      },
      "execution_count": null,
      "outputs": []
    },
    {
      "cell_type": "code",
      "source": [
        "# Set directories for training and test images\n",
        "train_img_dir = '/content/train_images'\n",
        "test_img_dir = '/content/test_images'"
      ],
      "metadata": {
        "id": "LlHEN8Pd2CiN"
      },
      "execution_count": null,
      "outputs": []
    },
    {
      "cell_type": "code",
      "source": [
        "# Create training image directory if not exists and save Mel spectrogram images\n",
        "if not os.path.exists(train_img_dir):\n",
        "    os.mkdir(train_img_dir)\n",
        "    save_feature_to_image(trainset_data, train_img_dir, f_dim)"
      ],
      "metadata": {
        "id": "8-HqlO7C2Clt"
      },
      "execution_count": null,
      "outputs": []
    },
    {
      "cell_type": "code",
      "source": [
        "# Create test image directory if not exists and save Mel spectrogram images using the same feature dimension as training data\n",
        "if not os.path.exists(test_img_dir):\n",
        "    os.mkdir(test_img_dir)\n",
        "    save_feature_to_image(testset_data, test_img_dir, train_data.shape[2])"
      ],
      "metadata": {
        "id": "HQl2Vysq4JwI"
      },
      "execution_count": null,
      "outputs": []
    },
    {
      "cell_type": "code",
      "source": [
        "# Scan image features from a directory\n",
        "def scan_img_features(path):\n",
        "    features = []\n",
        "    files = sorted(os.listdir(path))\n",
        "\n",
        "    for file_name in files:\n",
        "        file_path = os.path.join(path, file_name)\n",
        "        try:\n",
        "            img = imread(file_path)[:,:,:3] / 255.0\n",
        "            features.append(img)\n",
        "        except Exception as e:\n",
        "            print(f\"Skipping {file_name} due to error: {e}\")\n",
        "\n",
        "    return np.array(features), files"
      ],
      "metadata": {
        "id": "hxT4pbOL4OSW"
      },
      "execution_count": null,
      "outputs": []
    },
    {
      "cell_type": "code",
      "source": [
        "import plotly.io as pio\n",
        "# Set the render mode to 'notebook'\n",
        "pio.renderers.default = 'notebook_connected'\n",
        "\n",
        "if os.path.exists(train_img_dir):\n",
        "    train_data_img, train_files_img = scan_img_features(train_img_dir)\n",
        "    for img in train_data_img:\n",
        "        fig = go.Figure(data=go.Heatmap(z=img[::-1], colorscale='Viridis'))\n",
        "        fig.update_layout(xaxis=dict(showgrid=False, zeroline=False, showticklabels=False),\n",
        "                          yaxis=dict(showgrid=False, zeroline=False, showticklabels=False))\n",
        "        pio.show(fig)\n",
        "\n",
        "if os.path.exists(test_img_dir):\n",
        "    test_data_img, test_files_img = scan_img_features(test_img_dir)\n",
        "    for img in test_data_img:\n",
        "        fig = go.Figure(data=go.Heatmap(z=img[::-1], colorscale='Viridis'))\n",
        "        fig.update_layout(xaxis=dict(showgrid=False, zeroline=False, showticklabels=False),\n",
        "                          yaxis=dict(showgrid=False, zeroline=False, showticklabels=False))\n",
        "        pio.show(fig)"
      ],
      "metadata": {
        "colab": {
          "base_uri": "https://localhost:8080/"
        },
        "id": "Q6cili4_4SMa",
        "outputId": "ec9f4b76-aa0f-4124-e529-ca0860579dd6"
      },
      "execution_count": null,
      "outputs": [
        {
          "output_type": "stream",
          "name": "stdout",
          "text": [
            "Skipping 112.html due to error: Could not find a backend to open `/content/train_images/112.html`` with iomode `ri`.\n",
            "Skipping 113.html due to error: Could not find a backend to open `/content/train_images/113.html`` with iomode `ri`.\n",
            "Skipping 115.html due to error: Could not find a backend to open `/content/train_images/115.html`` with iomode `ri`.\n",
            "Skipping 119.html due to error: Could not find a backend to open `/content/train_images/119.html`` with iomode `ri`.\n",
            "Skipping 123.html due to error: Could not find a backend to open `/content/train_images/123.html`` with iomode `ri`.\n",
            "Skipping 124.html due to error: Could not find a backend to open `/content/train_images/124.html`` with iomode `ri`.\n",
            "Skipping 125.html due to error: Could not find a backend to open `/content/train_images/125.html`` with iomode `ri`.\n",
            "Skipping 128.html due to error: Could not find a backend to open `/content/train_images/128.html`` with iomode `ri`.\n",
            "Skipping 13.html due to error: Could not find a backend to open `/content/train_images/13.html`` with iomode `ri`.\n",
            "Skipping 130.html due to error: Could not find a backend to open `/content/train_images/130.html`` with iomode `ri`.\n",
            "Skipping 131.html due to error: Could not find a backend to open `/content/train_images/131.html`` with iomode `ri`.\n",
            "Skipping 132.html due to error: Could not find a backend to open `/content/train_images/132.html`` with iomode `ri`.\n",
            "Skipping 134.html due to error: Could not find a backend to open `/content/train_images/134.html`` with iomode `ri`.\n",
            "Skipping 135.html due to error: Could not find a backend to open `/content/train_images/135.html`` with iomode `ri`.\n",
            "Skipping 136.html due to error: Could not find a backend to open `/content/train_images/136.html`` with iomode `ri`.\n",
            "Skipping 138.html due to error: Could not find a backend to open `/content/train_images/138.html`` with iomode `ri`.\n",
            "Skipping 141.html due to error: Could not find a backend to open `/content/train_images/141.html`` with iomode `ri`.\n",
            "Skipping 142.html due to error: Could not find a backend to open `/content/train_images/142.html`` with iomode `ri`.\n",
            "Skipping 143.html due to error: Could not find a backend to open `/content/train_images/143.html`` with iomode `ri`.\n",
            "Skipping 146.html due to error: Could not find a backend to open `/content/train_images/146.html`` with iomode `ri`.\n",
            "Skipping 15.html due to error: Could not find a backend to open `/content/train_images/15.html`` with iomode `ri`.\n",
            "Skipping 152.html due to error: Could not find a backend to open `/content/train_images/152.html`` with iomode `ri`.\n",
            "Skipping 157.html due to error: Could not find a backend to open `/content/train_images/157.html`` with iomode `ri`.\n",
            "Skipping 158.html due to error: Could not find a backend to open `/content/train_images/158.html`` with iomode `ri`.\n",
            "Skipping 165.html due to error: Could not find a backend to open `/content/train_images/165.html`` with iomode `ri`.\n",
            "Skipping 173.html due to error: Could not find a backend to open `/content/train_images/173.html`` with iomode `ri`.\n",
            "Skipping 175.html due to error: Could not find a backend to open `/content/train_images/175.html`` with iomode `ri`.\n",
            "Skipping 176.html due to error: Could not find a backend to open `/content/train_images/176.html`` with iomode `ri`.\n",
            "Skipping 178.html due to error: Could not find a backend to open `/content/train_images/178.html`` with iomode `ri`.\n",
            "Skipping 180.html due to error: Could not find a backend to open `/content/train_images/180.html`` with iomode `ri`.\n",
            "Skipping 182.html due to error: Could not find a backend to open `/content/train_images/182.html`` with iomode `ri`.\n",
            "Skipping 185.html due to error: Could not find a backend to open `/content/train_images/185.html`` with iomode `ri`.\n",
            "Skipping 19.html due to error: Could not find a backend to open `/content/train_images/19.html`` with iomode `ri`.\n",
            "Skipping 194.html due to error: Could not find a backend to open `/content/train_images/194.html`` with iomode `ri`.\n",
            "Skipping 195.html due to error: Could not find a backend to open `/content/train_images/195.html`` with iomode `ri`.\n",
            "Skipping 199.html due to error: Could not find a backend to open `/content/train_images/199.html`` with iomode `ri`.\n",
            "Skipping 202.html due to error: Could not find a backend to open `/content/train_images/202.html`` with iomode `ri`.\n",
            "Skipping 205.html due to error: Could not find a backend to open `/content/train_images/205.html`` with iomode `ri`.\n",
            "Skipping 206.html due to error: Could not find a backend to open `/content/train_images/206.html`` with iomode `ri`.\n",
            "Skipping 212.html due to error: Could not find a backend to open `/content/train_images/212.html`` with iomode `ri`.\n",
            "Skipping 213.html due to error: Could not find a backend to open `/content/train_images/213.html`` with iomode `ri`.\n",
            "Skipping 219.html due to error: Could not find a backend to open `/content/train_images/219.html`` with iomode `ri`.\n",
            "Skipping 225.html due to error: Could not find a backend to open `/content/train_images/225.html`` with iomode `ri`.\n",
            "Skipping 229.html due to error: Could not find a backend to open `/content/train_images/229.html`` with iomode `ri`.\n",
            "Skipping 23.html due to error: Could not find a backend to open `/content/train_images/23.html`` with iomode `ri`.\n",
            "Skipping 238.html due to error: Could not find a backend to open `/content/train_images/238.html`` with iomode `ri`.\n",
            "Skipping 239.html due to error: Could not find a backend to open `/content/train_images/239.html`` with iomode `ri`.\n",
            "Skipping 249.html due to error: Could not find a backend to open `/content/train_images/249.html`` with iomode `ri`.\n",
            "Skipping 25.html due to error: Could not find a backend to open `/content/train_images/25.html`` with iomode `ri`.\n",
            "Skipping 257.html due to error: Could not find a backend to open `/content/train_images/257.html`` with iomode `ri`.\n",
            "Skipping 259.html due to error: Could not find a backend to open `/content/train_images/259.html`` with iomode `ri`.\n",
            "Skipping 26.html due to error: Could not find a backend to open `/content/train_images/26.html`` with iomode `ri`.\n",
            "Skipping 260.html due to error: Could not find a backend to open `/content/train_images/260.html`` with iomode `ri`.\n",
            "Skipping 265.html due to error: Could not find a backend to open `/content/train_images/265.html`` with iomode `ri`.\n",
            "Skipping 267.html due to error: Could not find a backend to open `/content/train_images/267.html`` with iomode `ri`.\n",
            "Skipping 268.html due to error: Could not find a backend to open `/content/train_images/268.html`` with iomode `ri`.\n",
            "Skipping 27.html due to error: Could not find a backend to open `/content/train_images/27.html`` with iomode `ri`.\n",
            "Skipping 277.html due to error: Could not find a backend to open `/content/train_images/277.html`` with iomode `ri`.\n",
            "Skipping 285.html due to error: Could not find a backend to open `/content/train_images/285.html`` with iomode `ri`.\n",
            "Skipping 290.html due to error: Could not find a backend to open `/content/train_images/290.html`` with iomode `ri`.\n",
            "Skipping 294.html due to error: Could not find a backend to open `/content/train_images/294.html`` with iomode `ri`.\n",
            "Skipping 296.html due to error: Could not find a backend to open `/content/train_images/296.html`` with iomode `ri`.\n",
            "Skipping 298.html due to error: Could not find a backend to open `/content/train_images/298.html`` with iomode `ri`.\n",
            "Skipping 300.html due to error: Could not find a backend to open `/content/train_images/300.html`` with iomode `ri`.\n",
            "Skipping 304.html due to error: Could not find a backend to open `/content/train_images/304.html`` with iomode `ri`.\n",
            "Skipping 309.html due to error: Could not find a backend to open `/content/train_images/309.html`` with iomode `ri`.\n",
            "Skipping 311.html due to error: Could not find a backend to open `/content/train_images/311.html`` with iomode `ri`.\n",
            "Skipping 312.html due to error: Could not find a backend to open `/content/train_images/312.html`` with iomode `ri`.\n",
            "Skipping 315.html due to error: Could not find a backend to open `/content/train_images/315.html`` with iomode `ri`.\n",
            "Skipping 320.html due to error: Could not find a backend to open `/content/train_images/320.html`` with iomode `ri`.\n",
            "Skipping 322.html due to error: Could not find a backend to open `/content/train_images/322.html`` with iomode `ri`.\n",
            "Skipping 325.html due to error: Could not find a backend to open `/content/train_images/325.html`` with iomode `ri`.\n",
            "Skipping 326.html due to error: Could not find a backend to open `/content/train_images/326.html`` with iomode `ri`.\n",
            "Skipping 33.html due to error: Could not find a backend to open `/content/train_images/33.html`` with iomode `ri`.\n",
            "Skipping 335.html due to error: Could not find a backend to open `/content/train_images/335.html`` with iomode `ri`.\n",
            "Skipping 338.html due to error: Could not find a backend to open `/content/train_images/338.html`` with iomode `ri`.\n",
            "Skipping 34.html due to error: Could not find a backend to open `/content/train_images/34.html`` with iomode `ri`.\n",
            "Skipping 341.html due to error: Could not find a backend to open `/content/train_images/341.html`` with iomode `ri`.\n",
            "Skipping 345.html due to error: Could not find a backend to open `/content/train_images/345.html`` with iomode `ri`.\n",
            "Skipping 348.html due to error: Could not find a backend to open `/content/train_images/348.html`` with iomode `ri`.\n",
            "Skipping 35.html due to error: Could not find a backend to open `/content/train_images/35.html`` with iomode `ri`.\n",
            "Skipping 351.html due to error: Could not find a backend to open `/content/train_images/351.html`` with iomode `ri`.\n",
            "Skipping 356.html due to error: Could not find a backend to open `/content/train_images/356.html`` with iomode `ri`.\n",
            "Skipping 358.html due to error: Could not find a backend to open `/content/train_images/358.html`` with iomode `ri`.\n",
            "Skipping 359.html due to error: Could not find a backend to open `/content/train_images/359.html`` with iomode `ri`.\n",
            "Skipping 360.html due to error: Could not find a backend to open `/content/train_images/360.html`` with iomode `ri`.\n",
            "Skipping 4.html due to error: Could not find a backend to open `/content/train_images/4.html`` with iomode `ri`.\n",
            "Skipping 41.html due to error: Could not find a backend to open `/content/train_images/41.html`` with iomode `ri`.\n",
            "Skipping 42.html due to error: Could not find a backend to open `/content/train_images/42.html`` with iomode `ri`.\n",
            "Skipping 45.html due to error: Could not find a backend to open `/content/train_images/45.html`` with iomode `ri`.\n",
            "Skipping 51.html due to error: Could not find a backend to open `/content/train_images/51.html`` with iomode `ri`.\n",
            "Skipping 56.html due to error: Could not find a backend to open `/content/train_images/56.html`` with iomode `ri`.\n",
            "Skipping 57.html due to error: Could not find a backend to open `/content/train_images/57.html`` with iomode `ri`.\n",
            "Skipping 59.html due to error: Could not find a backend to open `/content/train_images/59.html`` with iomode `ri`.\n",
            "Skipping 61.html due to error: Could not find a backend to open `/content/train_images/61.html`` with iomode `ri`.\n",
            "Skipping 65.html due to error: Could not find a backend to open `/content/train_images/65.html`` with iomode `ri`.\n",
            "Skipping 66.html due to error: Could not find a backend to open `/content/train_images/66.html`` with iomode `ri`.\n",
            "Skipping 7.html due to error: Could not find a backend to open `/content/train_images/7.html`` with iomode `ri`.\n",
            "Skipping 72.html due to error: Could not find a backend to open `/content/train_images/72.html`` with iomode `ri`.\n",
            "Skipping 75.html due to error: Could not find a backend to open `/content/train_images/75.html`` with iomode `ri`.\n",
            "Skipping 8.html due to error: Could not find a backend to open `/content/train_images/8.html`` with iomode `ri`.\n",
            "Skipping 81.html due to error: Could not find a backend to open `/content/train_images/81.html`` with iomode `ri`.\n",
            "Skipping 84.html due to error: Could not find a backend to open `/content/train_images/84.html`` with iomode `ri`.\n",
            "Skipping 86.html due to error: Could not find a backend to open `/content/train_images/86.html`` with iomode `ri`.\n",
            "Skipping 87.html due to error: Could not find a backend to open `/content/train_images/87.html`` with iomode `ri`.\n",
            "Skipping 88.html due to error: Could not find a backend to open `/content/train_images/88.html`` with iomode `ri`.\n",
            "Skipping 92.html due to error: Could not find a backend to open `/content/train_images/92.html`` with iomode `ri`.\n",
            "Skipping 94.html due to error: Could not find a backend to open `/content/train_images/94.html`` with iomode `ri`.\n",
            "Skipping 95.html due to error: Could not find a backend to open `/content/train_images/95.html`` with iomode `ri`.\n",
            "Skipping 98.html due to error: Could not find a backend to open `/content/train_images/98.html`` with iomode `ri`.\n",
            "Skipping 1.html due to error: Could not find a backend to open `/content/test_images/1.html`` with iomode `ri`.\n",
            "Skipping 10.html due to error: Could not find a backend to open `/content/test_images/10.html`` with iomode `ri`.\n",
            "Skipping 100.html due to error: Could not find a backend to open `/content/test_images/100.html`` with iomode `ri`.\n",
            "Skipping 101.html due to error: Could not find a backend to open `/content/test_images/101.html`` with iomode `ri`.\n",
            "Skipping 102.html due to error: Could not find a backend to open `/content/test_images/102.html`` with iomode `ri`.\n",
            "Skipping 103.html due to error: Could not find a backend to open `/content/test_images/103.html`` with iomode `ri`.\n",
            "Skipping 104.html due to error: Could not find a backend to open `/content/test_images/104.html`` with iomode `ri`.\n",
            "Skipping 105.html due to error: Could not find a backend to open `/content/test_images/105.html`` with iomode `ri`.\n",
            "Skipping 106.html due to error: Could not find a backend to open `/content/test_images/106.html`` with iomode `ri`.\n",
            "Skipping 107.html due to error: Could not find a backend to open `/content/test_images/107.html`` with iomode `ri`.\n",
            "Skipping 108.html due to error: Could not find a backend to open `/content/test_images/108.html`` with iomode `ri`.\n",
            "Skipping 109.html due to error: Could not find a backend to open `/content/test_images/109.html`` with iomode `ri`.\n",
            "Skipping 11.html due to error: Could not find a backend to open `/content/test_images/11.html`` with iomode `ri`.\n",
            "Skipping 110.html due to error: Could not find a backend to open `/content/test_images/110.html`` with iomode `ri`.\n",
            "Skipping 111.html due to error: Could not find a backend to open `/content/test_images/111.html`` with iomode `ri`.\n",
            "Skipping 114.html due to error: Could not find a backend to open `/content/test_images/114.html`` with iomode `ri`.\n",
            "Skipping 116.html due to error: Could not find a backend to open `/content/test_images/116.html`` with iomode `ri`.\n",
            "Skipping 117.html due to error: Could not find a backend to open `/content/test_images/117.html`` with iomode `ri`.\n",
            "Skipping 118.html due to error: Could not find a backend to open `/content/test_images/118.html`` with iomode `ri`.\n",
            "Skipping 12.html due to error: Could not find a backend to open `/content/test_images/12.html`` with iomode `ri`.\n",
            "Skipping 120.html due to error: Could not find a backend to open `/content/test_images/120.html`` with iomode `ri`.\n",
            "Skipping 121.html due to error: Could not find a backend to open `/content/test_images/121.html`` with iomode `ri`.\n",
            "Skipping 122.html due to error: Could not find a backend to open `/content/test_images/122.html`` with iomode `ri`.\n",
            "Skipping 126.html due to error: Could not find a backend to open `/content/test_images/126.html`` with iomode `ri`.\n",
            "Skipping 127.html due to error: Could not find a backend to open `/content/test_images/127.html`` with iomode `ri`.\n",
            "Skipping 129.html due to error: Could not find a backend to open `/content/test_images/129.html`` with iomode `ri`.\n",
            "Skipping 133.html due to error: Could not find a backend to open `/content/test_images/133.html`` with iomode `ri`.\n",
            "Skipping 137.html due to error: Could not find a backend to open `/content/test_images/137.html`` with iomode `ri`.\n",
            "Skipping 139.html due to error: Could not find a backend to open `/content/test_images/139.html`` with iomode `ri`.\n",
            "Skipping 14.html due to error: Could not find a backend to open `/content/test_images/14.html`` with iomode `ri`.\n",
            "Skipping 140.html due to error: Could not find a backend to open `/content/test_images/140.html`` with iomode `ri`.\n",
            "Skipping 144.html due to error: Could not find a backend to open `/content/test_images/144.html`` with iomode `ri`.\n",
            "Skipping 145.html due to error: Could not find a backend to open `/content/test_images/145.html`` with iomode `ri`.\n",
            "Skipping 147.html due to error: Could not find a backend to open `/content/test_images/147.html`` with iomode `ri`.\n",
            "Skipping 148.html due to error: Could not find a backend to open `/content/test_images/148.html`` with iomode `ri`.\n",
            "Skipping 149.html due to error: Could not find a backend to open `/content/test_images/149.html`` with iomode `ri`.\n",
            "Skipping 150.html due to error: Could not find a backend to open `/content/test_images/150.html`` with iomode `ri`.\n",
            "Skipping 151.html due to error: Could not find a backend to open `/content/test_images/151.html`` with iomode `ri`.\n",
            "Skipping 153.html due to error: Could not find a backend to open `/content/test_images/153.html`` with iomode `ri`.\n",
            "Skipping 154.html due to error: Could not find a backend to open `/content/test_images/154.html`` with iomode `ri`.\n",
            "Skipping 155.html due to error: Could not find a backend to open `/content/test_images/155.html`` with iomode `ri`.\n",
            "Skipping 156.html due to error: Could not find a backend to open `/content/test_images/156.html`` with iomode `ri`.\n",
            "Skipping 159.html due to error: Could not find a backend to open `/content/test_images/159.html`` with iomode `ri`.\n",
            "Skipping 16.html due to error: Could not find a backend to open `/content/test_images/16.html`` with iomode `ri`.\n",
            "Skipping 160.html due to error: Could not find a backend to open `/content/test_images/160.html`` with iomode `ri`.\n",
            "Skipping 161.html due to error: Could not find a backend to open `/content/test_images/161.html`` with iomode `ri`.\n",
            "Skipping 162.html due to error: Could not find a backend to open `/content/test_images/162.html`` with iomode `ri`.\n",
            "Skipping 163.html due to error: Could not find a backend to open `/content/test_images/163.html`` with iomode `ri`.\n",
            "Skipping 164.html due to error: Could not find a backend to open `/content/test_images/164.html`` with iomode `ri`.\n",
            "Skipping 166.html due to error: Could not find a backend to open `/content/test_images/166.html`` with iomode `ri`.\n",
            "Skipping 167.html due to error: Could not find a backend to open `/content/test_images/167.html`` with iomode `ri`.\n",
            "Skipping 168.html due to error: Could not find a backend to open `/content/test_images/168.html`` with iomode `ri`.\n",
            "Skipping 169.html due to error: Could not find a backend to open `/content/test_images/169.html`` with iomode `ri`.\n",
            "Skipping 17.html due to error: Could not find a backend to open `/content/test_images/17.html`` with iomode `ri`.\n",
            "Skipping 170.html due to error: Could not find a backend to open `/content/test_images/170.html`` with iomode `ri`.\n",
            "Skipping 171.html due to error: Could not find a backend to open `/content/test_images/171.html`` with iomode `ri`.\n",
            "Skipping 172.html due to error: Could not find a backend to open `/content/test_images/172.html`` with iomode `ri`.\n",
            "Skipping 174.html due to error: Could not find a backend to open `/content/test_images/174.html`` with iomode `ri`.\n",
            "Skipping 177.html due to error: Could not find a backend to open `/content/test_images/177.html`` with iomode `ri`.\n",
            "Skipping 179.html due to error: Could not find a backend to open `/content/test_images/179.html`` with iomode `ri`.\n",
            "Skipping 18.html due to error: Could not find a backend to open `/content/test_images/18.html`` with iomode `ri`.\n",
            "Skipping 181.html due to error: Could not find a backend to open `/content/test_images/181.html`` with iomode `ri`.\n",
            "Skipping 183.html due to error: Could not find a backend to open `/content/test_images/183.html`` with iomode `ri`.\n",
            "Skipping 184.html due to error: Could not find a backend to open `/content/test_images/184.html`` with iomode `ri`.\n",
            "Skipping 186.html due to error: Could not find a backend to open `/content/test_images/186.html`` with iomode `ri`.\n",
            "Skipping 187.html due to error: Could not find a backend to open `/content/test_images/187.html`` with iomode `ri`.\n",
            "Skipping 188.html due to error: Could not find a backend to open `/content/test_images/188.html`` with iomode `ri`.\n",
            "Skipping 189.html due to error: Could not find a backend to open `/content/test_images/189.html`` with iomode `ri`.\n",
            "Skipping 190.html due to error: Could not find a backend to open `/content/test_images/190.html`` with iomode `ri`.\n",
            "Skipping 191.html due to error: Could not find a backend to open `/content/test_images/191.html`` with iomode `ri`.\n",
            "Skipping 192.html due to error: Could not find a backend to open `/content/test_images/192.html`` with iomode `ri`.\n",
            "Skipping 193.html due to error: Could not find a backend to open `/content/test_images/193.html`` with iomode `ri`.\n",
            "Skipping 196.html due to error: Could not find a backend to open `/content/test_images/196.html`` with iomode `ri`.\n",
            "Skipping 197.html due to error: Could not find a backend to open `/content/test_images/197.html`` with iomode `ri`.\n",
            "Skipping 198.html due to error: Could not find a backend to open `/content/test_images/198.html`` with iomode `ri`.\n",
            "Skipping 2.html due to error: Could not find a backend to open `/content/test_images/2.html`` with iomode `ri`.\n",
            "Skipping 20.html due to error: Could not find a backend to open `/content/test_images/20.html`` with iomode `ri`.\n",
            "Skipping 200.html due to error: Could not find a backend to open `/content/test_images/200.html`` with iomode `ri`.\n",
            "Skipping 201.html due to error: Could not find a backend to open `/content/test_images/201.html`` with iomode `ri`.\n",
            "Skipping 203.html due to error: Could not find a backend to open `/content/test_images/203.html`` with iomode `ri`.\n",
            "Skipping 204.html due to error: Could not find a backend to open `/content/test_images/204.html`` with iomode `ri`.\n",
            "Skipping 207.html due to error: Could not find a backend to open `/content/test_images/207.html`` with iomode `ri`.\n",
            "Skipping 208.html due to error: Could not find a backend to open `/content/test_images/208.html`` with iomode `ri`.\n",
            "Skipping 209.html due to error: Could not find a backend to open `/content/test_images/209.html`` with iomode `ri`.\n",
            "Skipping 21.html due to error: Could not find a backend to open `/content/test_images/21.html`` with iomode `ri`.\n",
            "Skipping 210.html due to error: Could not find a backend to open `/content/test_images/210.html`` with iomode `ri`.\n",
            "Skipping 211.html due to error: Could not find a backend to open `/content/test_images/211.html`` with iomode `ri`.\n",
            "Skipping 214.html due to error: Could not find a backend to open `/content/test_images/214.html`` with iomode `ri`.\n",
            "Skipping 215.html due to error: Could not find a backend to open `/content/test_images/215.html`` with iomode `ri`.\n",
            "Skipping 216.html due to error: Could not find a backend to open `/content/test_images/216.html`` with iomode `ri`.\n",
            "Skipping 217.html due to error: Could not find a backend to open `/content/test_images/217.html`` with iomode `ri`.\n",
            "Skipping 218.html due to error: Could not find a backend to open `/content/test_images/218.html`` with iomode `ri`.\n",
            "Skipping 22.html due to error: Could not find a backend to open `/content/test_images/22.html`` with iomode `ri`.\n",
            "Skipping 220.html due to error: Could not find a backend to open `/content/test_images/220.html`` with iomode `ri`.\n",
            "Skipping 221.html due to error: Could not find a backend to open `/content/test_images/221.html`` with iomode `ri`.\n",
            "Skipping 222.html due to error: Could not find a backend to open `/content/test_images/222.html`` with iomode `ri`.\n",
            "Skipping 223.html due to error: Could not find a backend to open `/content/test_images/223.html`` with iomode `ri`.\n",
            "Skipping 224.html due to error: Could not find a backend to open `/content/test_images/224.html`` with iomode `ri`.\n",
            "Skipping 226.html due to error: Could not find a backend to open `/content/test_images/226.html`` with iomode `ri`.\n",
            "Skipping 227.html due to error: Could not find a backend to open `/content/test_images/227.html`` with iomode `ri`.\n",
            "Skipping 228.html due to error: Could not find a backend to open `/content/test_images/228.html`` with iomode `ri`.\n",
            "Skipping 230.html due to error: Could not find a backend to open `/content/test_images/230.html`` with iomode `ri`.\n",
            "Skipping 231.html due to error: Could not find a backend to open `/content/test_images/231.html`` with iomode `ri`.\n",
            "Skipping 232.html due to error: Could not find a backend to open `/content/test_images/232.html`` with iomode `ri`.\n",
            "Skipping 233.html due to error: Could not find a backend to open `/content/test_images/233.html`` with iomode `ri`.\n",
            "Skipping 234.html due to error: Could not find a backend to open `/content/test_images/234.html`` with iomode `ri`.\n",
            "Skipping 235.html due to error: Could not find a backend to open `/content/test_images/235.html`` with iomode `ri`.\n",
            "Skipping 236.html due to error: Could not find a backend to open `/content/test_images/236.html`` with iomode `ri`.\n",
            "Skipping 237.html due to error: Could not find a backend to open `/content/test_images/237.html`` with iomode `ri`.\n",
            "Skipping 24.html due to error: Could not find a backend to open `/content/test_images/24.html`` with iomode `ri`.\n",
            "Skipping 240.html due to error: Could not find a backend to open `/content/test_images/240.html`` with iomode `ri`.\n",
            "Skipping 241.html due to error: Could not find a backend to open `/content/test_images/241.html`` with iomode `ri`.\n",
            "Skipping 242.html due to error: Could not find a backend to open `/content/test_images/242.html`` with iomode `ri`.\n",
            "Skipping 243.html due to error: Could not find a backend to open `/content/test_images/243.html`` with iomode `ri`.\n",
            "Skipping 244.html due to error: Could not find a backend to open `/content/test_images/244.html`` with iomode `ri`.\n",
            "Skipping 245.html due to error: Could not find a backend to open `/content/test_images/245.html`` with iomode `ri`.\n",
            "Skipping 246.html due to error: Could not find a backend to open `/content/test_images/246.html`` with iomode `ri`.\n",
            "Skipping 247.html due to error: Could not find a backend to open `/content/test_images/247.html`` with iomode `ri`.\n",
            "Skipping 248.html due to error: Could not find a backend to open `/content/test_images/248.html`` with iomode `ri`.\n",
            "Skipping 250.html due to error: Could not find a backend to open `/content/test_images/250.html`` with iomode `ri`.\n",
            "Skipping 251.html due to error: Could not find a backend to open `/content/test_images/251.html`` with iomode `ri`.\n",
            "Skipping 252.html due to error: Could not find a backend to open `/content/test_images/252.html`` with iomode `ri`.\n",
            "Skipping 253.html due to error: Could not find a backend to open `/content/test_images/253.html`` with iomode `ri`.\n",
            "Skipping 254.html due to error: Could not find a backend to open `/content/test_images/254.html`` with iomode `ri`.\n",
            "Skipping 255.html due to error: Could not find a backend to open `/content/test_images/255.html`` with iomode `ri`.\n",
            "Skipping 256.html due to error: Could not find a backend to open `/content/test_images/256.html`` with iomode `ri`.\n",
            "Skipping 258.html due to error: Could not find a backend to open `/content/test_images/258.html`` with iomode `ri`.\n",
            "Skipping 261.html due to error: Could not find a backend to open `/content/test_images/261.html`` with iomode `ri`.\n",
            "Skipping 262.html due to error: Could not find a backend to open `/content/test_images/262.html`` with iomode `ri`.\n",
            "Skipping 263.html due to error: Could not find a backend to open `/content/test_images/263.html`` with iomode `ri`.\n",
            "Skipping 264.html due to error: Could not find a backend to open `/content/test_images/264.html`` with iomode `ri`.\n",
            "Skipping 266.html due to error: Could not find a backend to open `/content/test_images/266.html`` with iomode `ri`.\n",
            "Skipping 269.html due to error: Could not find a backend to open `/content/test_images/269.html`` with iomode `ri`.\n",
            "Skipping 270.html due to error: Could not find a backend to open `/content/test_images/270.html`` with iomode `ri`.\n",
            "Skipping 271.html due to error: Could not find a backend to open `/content/test_images/271.html`` with iomode `ri`.\n",
            "Skipping 272.html due to error: Could not find a backend to open `/content/test_images/272.html`` with iomode `ri`.\n",
            "Skipping 273.html due to error: Could not find a backend to open `/content/test_images/273.html`` with iomode `ri`.\n",
            "Skipping 274.html due to error: Could not find a backend to open `/content/test_images/274.html`` with iomode `ri`.\n",
            "Skipping 275.html due to error: Could not find a backend to open `/content/test_images/275.html`` with iomode `ri`.\n",
            "Skipping 276.html due to error: Could not find a backend to open `/content/test_images/276.html`` with iomode `ri`.\n",
            "Skipping 278.html due to error: Could not find a backend to open `/content/test_images/278.html`` with iomode `ri`.\n",
            "Skipping 279.html due to error: Could not find a backend to open `/content/test_images/279.html`` with iomode `ri`.\n",
            "Skipping 28.html due to error: Could not find a backend to open `/content/test_images/28.html`` with iomode `ri`.\n",
            "Skipping 280.html due to error: Could not find a backend to open `/content/test_images/280.html`` with iomode `ri`.\n",
            "Skipping 281.html due to error: Could not find a backend to open `/content/test_images/281.html`` with iomode `ri`.\n",
            "Skipping 282.html due to error: Could not find a backend to open `/content/test_images/282.html`` with iomode `ri`.\n",
            "Skipping 283.html due to error: Could not find a backend to open `/content/test_images/283.html`` with iomode `ri`.\n",
            "Skipping 284.html due to error: Could not find a backend to open `/content/test_images/284.html`` with iomode `ri`.\n",
            "Skipping 286.html due to error: Could not find a backend to open `/content/test_images/286.html`` with iomode `ri`.\n",
            "Skipping 287.html due to error: Could not find a backend to open `/content/test_images/287.html`` with iomode `ri`.\n",
            "Skipping 288.html due to error: Could not find a backend to open `/content/test_images/288.html`` with iomode `ri`.\n",
            "Skipping 289.html due to error: Could not find a backend to open `/content/test_images/289.html`` with iomode `ri`.\n",
            "Skipping 29.html due to error: Could not find a backend to open `/content/test_images/29.html`` with iomode `ri`.\n",
            "Skipping 291.html due to error: Could not find a backend to open `/content/test_images/291.html`` with iomode `ri`.\n",
            "Skipping 292.html due to error: Could not find a backend to open `/content/test_images/292.html`` with iomode `ri`.\n",
            "Skipping 293.html due to error: Could not find a backend to open `/content/test_images/293.html`` with iomode `ri`.\n",
            "Skipping 295.html due to error: Could not find a backend to open `/content/test_images/295.html`` with iomode `ri`.\n",
            "Skipping 297.html due to error: Could not find a backend to open `/content/test_images/297.html`` with iomode `ri`.\n",
            "Skipping 299.html due to error: Could not find a backend to open `/content/test_images/299.html`` with iomode `ri`.\n",
            "Skipping 3.html due to error: Could not find a backend to open `/content/test_images/3.html`` with iomode `ri`.\n",
            "Skipping 30.html due to error: Could not find a backend to open `/content/test_images/30.html`` with iomode `ri`.\n",
            "Skipping 301.html due to error: Could not find a backend to open `/content/test_images/301.html`` with iomode `ri`.\n",
            "Skipping 302.html due to error: Could not find a backend to open `/content/test_images/302.html`` with iomode `ri`.\n",
            "Skipping 303.html due to error: Could not find a backend to open `/content/test_images/303.html`` with iomode `ri`.\n",
            "Skipping 305.html due to error: Could not find a backend to open `/content/test_images/305.html`` with iomode `ri`.\n",
            "Skipping 306.html due to error: Could not find a backend to open `/content/test_images/306.html`` with iomode `ri`.\n",
            "Skipping 307.html due to error: Could not find a backend to open `/content/test_images/307.html`` with iomode `ri`.\n",
            "Skipping 308.html due to error: Could not find a backend to open `/content/test_images/308.html`` with iomode `ri`.\n",
            "Skipping 31.html due to error: Could not find a backend to open `/content/test_images/31.html`` with iomode `ri`.\n",
            "Skipping 310.html due to error: Could not find a backend to open `/content/test_images/310.html`` with iomode `ri`.\n",
            "Skipping 313.html due to error: Could not find a backend to open `/content/test_images/313.html`` with iomode `ri`.\n",
            "Skipping 314.html due to error: Could not find a backend to open `/content/test_images/314.html`` with iomode `ri`.\n",
            "Skipping 316.html due to error: Could not find a backend to open `/content/test_images/316.html`` with iomode `ri`.\n",
            "Skipping 317.html due to error: Could not find a backend to open `/content/test_images/317.html`` with iomode `ri`.\n",
            "Skipping 318.html due to error: Could not find a backend to open `/content/test_images/318.html`` with iomode `ri`.\n",
            "Skipping 319.html due to error: Could not find a backend to open `/content/test_images/319.html`` with iomode `ri`.\n",
            "Skipping 32.html due to error: Could not find a backend to open `/content/test_images/32.html`` with iomode `ri`.\n",
            "Skipping 321.html due to error: Could not find a backend to open `/content/test_images/321.html`` with iomode `ri`.\n",
            "Skipping 323.html due to error: Could not find a backend to open `/content/test_images/323.html`` with iomode `ri`.\n",
            "Skipping 324.html due to error: Could not find a backend to open `/content/test_images/324.html`` with iomode `ri`.\n",
            "Skipping 327.html due to error: Could not find a backend to open `/content/test_images/327.html`` with iomode `ri`.\n",
            "Skipping 328.html due to error: Could not find a backend to open `/content/test_images/328.html`` with iomode `ri`.\n",
            "Skipping 329.html due to error: Could not find a backend to open `/content/test_images/329.html`` with iomode `ri`.\n",
            "Skipping 330.html due to error: Could not find a backend to open `/content/test_images/330.html`` with iomode `ri`.\n",
            "Skipping 331.html due to error: Could not find a backend to open `/content/test_images/331.html`` with iomode `ri`.\n",
            "Skipping 332.html due to error: Could not find a backend to open `/content/test_images/332.html`` with iomode `ri`.\n",
            "Skipping 333.html due to error: Could not find a backend to open `/content/test_images/333.html`` with iomode `ri`.\n",
            "Skipping 334.html due to error: Could not find a backend to open `/content/test_images/334.html`` with iomode `ri`.\n",
            "Skipping 336.html due to error: Could not find a backend to open `/content/test_images/336.html`` with iomode `ri`.\n",
            "Skipping 337.html due to error: Could not find a backend to open `/content/test_images/337.html`` with iomode `ri`.\n",
            "Skipping 339.html due to error: Could not find a backend to open `/content/test_images/339.html`` with iomode `ri`.\n",
            "Skipping 340.html due to error: Could not find a backend to open `/content/test_images/340.html`` with iomode `ri`.\n",
            "Skipping 342.html due to error: Could not find a backend to open `/content/test_images/342.html`` with iomode `ri`.\n",
            "Skipping 343.html due to error: Could not find a backend to open `/content/test_images/343.html`` with iomode `ri`.\n",
            "Skipping 344.html due to error: Could not find a backend to open `/content/test_images/344.html`` with iomode `ri`.\n",
            "Skipping 346.html due to error: Could not find a backend to open `/content/test_images/346.html`` with iomode `ri`.\n",
            "Skipping 347.html due to error: Could not find a backend to open `/content/test_images/347.html`` with iomode `ri`.\n",
            "Skipping 349.html due to error: Could not find a backend to open `/content/test_images/349.html`` with iomode `ri`.\n",
            "Skipping 350.html due to error: Could not find a backend to open `/content/test_images/350.html`` with iomode `ri`.\n",
            "Skipping 352.html due to error: Could not find a backend to open `/content/test_images/352.html`` with iomode `ri`.\n",
            "Skipping 353.html due to error: Could not find a backend to open `/content/test_images/353.html`` with iomode `ri`.\n",
            "Skipping 354.html due to error: Could not find a backend to open `/content/test_images/354.html`` with iomode `ri`.\n",
            "Skipping 355.html due to error: Could not find a backend to open `/content/test_images/355.html`` with iomode `ri`.\n",
            "Skipping 357.html due to error: Could not find a backend to open `/content/test_images/357.html`` with iomode `ri`.\n",
            "Skipping 36.html due to error: Could not find a backend to open `/content/test_images/36.html`` with iomode `ri`.\n",
            "Skipping 37.html due to error: Could not find a backend to open `/content/test_images/37.html`` with iomode `ri`.\n",
            "Skipping 38.html due to error: Could not find a backend to open `/content/test_images/38.html`` with iomode `ri`.\n",
            "Skipping 39.html due to error: Could not find a backend to open `/content/test_images/39.html`` with iomode `ri`.\n",
            "Skipping 40.html due to error: Could not find a backend to open `/content/test_images/40.html`` with iomode `ri`.\n",
            "Skipping 43.html due to error: Could not find a backend to open `/content/test_images/43.html`` with iomode `ri`.\n",
            "Skipping 44.html due to error: Could not find a backend to open `/content/test_images/44.html`` with iomode `ri`.\n",
            "Skipping 46.html due to error: Could not find a backend to open `/content/test_images/46.html`` with iomode `ri`.\n",
            "Skipping 47.html due to error: Could not find a backend to open `/content/test_images/47.html`` with iomode `ri`.\n",
            "Skipping 48.html due to error: Could not find a backend to open `/content/test_images/48.html`` with iomode `ri`.\n",
            "Skipping 49.html due to error: Could not find a backend to open `/content/test_images/49.html`` with iomode `ri`.\n",
            "Skipping 5.html due to error: Could not find a backend to open `/content/test_images/5.html`` with iomode `ri`.\n",
            "Skipping 50.html due to error: Could not find a backend to open `/content/test_images/50.html`` with iomode `ri`.\n",
            "Skipping 52.html due to error: Could not find a backend to open `/content/test_images/52.html`` with iomode `ri`.\n",
            "Skipping 53.html due to error: Could not find a backend to open `/content/test_images/53.html`` with iomode `ri`.\n",
            "Skipping 54.html due to error: Could not find a backend to open `/content/test_images/54.html`` with iomode `ri`.\n",
            "Skipping 55.html due to error: Could not find a backend to open `/content/test_images/55.html`` with iomode `ri`.\n",
            "Skipping 58.html due to error: Could not find a backend to open `/content/test_images/58.html`` with iomode `ri`.\n",
            "Skipping 6.html due to error: Could not find a backend to open `/content/test_images/6.html`` with iomode `ri`.\n",
            "Skipping 60.html due to error: Could not find a backend to open `/content/test_images/60.html`` with iomode `ri`.\n",
            "Skipping 62.html due to error: Could not find a backend to open `/content/test_images/62.html`` with iomode `ri`.\n",
            "Skipping 63.html due to error: Could not find a backend to open `/content/test_images/63.html`` with iomode `ri`.\n",
            "Skipping 64.html due to error: Could not find a backend to open `/content/test_images/64.html`` with iomode `ri`.\n",
            "Skipping 67.html due to error: Could not find a backend to open `/content/test_images/67.html`` with iomode `ri`.\n",
            "Skipping 68.html due to error: Could not find a backend to open `/content/test_images/68.html`` with iomode `ri`.\n",
            "Skipping 69.html due to error: Could not find a backend to open `/content/test_images/69.html`` with iomode `ri`.\n",
            "Skipping 70.html due to error: Could not find a backend to open `/content/test_images/70.html`` with iomode `ri`.\n",
            "Skipping 71.html due to error: Could not find a backend to open `/content/test_images/71.html`` with iomode `ri`.\n",
            "Skipping 73.html due to error: Could not find a backend to open `/content/test_images/73.html`` with iomode `ri`.\n",
            "Skipping 74.html due to error: Could not find a backend to open `/content/test_images/74.html`` with iomode `ri`.\n",
            "Skipping 76.html due to error: Could not find a backend to open `/content/test_images/76.html`` with iomode `ri`.\n",
            "Skipping 77.html due to error: Could not find a backend to open `/content/test_images/77.html`` with iomode `ri`.\n",
            "Skipping 78.html due to error: Could not find a backend to open `/content/test_images/78.html`` with iomode `ri`.\n",
            "Skipping 79.html due to error: Could not find a backend to open `/content/test_images/79.html`` with iomode `ri`.\n",
            "Skipping 80.html due to error: Could not find a backend to open `/content/test_images/80.html`` with iomode `ri`.\n",
            "Skipping 82.html due to error: Could not find a backend to open `/content/test_images/82.html`` with iomode `ri`.\n",
            "Skipping 83.html due to error: Could not find a backend to open `/content/test_images/83.html`` with iomode `ri`.\n",
            "Skipping 85.html due to error: Could not find a backend to open `/content/test_images/85.html`` with iomode `ri`.\n",
            "Skipping 89.html due to error: Could not find a backend to open `/content/test_images/89.html`` with iomode `ri`.\n",
            "Skipping 9.html due to error: Could not find a backend to open `/content/test_images/9.html`` with iomode `ri`.\n",
            "Skipping 90.html due to error: Could not find a backend to open `/content/test_images/90.html`` with iomode `ri`.\n",
            "Skipping 91.html due to error: Could not find a backend to open `/content/test_images/91.html`` with iomode `ri`.\n",
            "Skipping 93.html due to error: Could not find a backend to open `/content/test_images/93.html`` with iomode `ri`.\n",
            "Skipping 96.html due to error: Could not find a backend to open `/content/test_images/96.html`` with iomode `ri`.\n",
            "Skipping 97.html due to error: Could not find a backend to open `/content/test_images/97.html`` with iomode `ri`.\n",
            "Skipping 99.html due to error: Could not find a backend to open `/content/test_images/99.html`` with iomode `ri`.\n"
          ]
        }
      ]
    },
    {
      "cell_type": "code",
      "source": [],
      "metadata": {
        "id": "7S2ITEJX4V0t"
      },
      "execution_count": null,
      "outputs": []
    }
  ]
}